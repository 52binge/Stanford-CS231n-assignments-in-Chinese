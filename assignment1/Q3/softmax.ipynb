{
 "cells": [
  {
   "cell_type": "markdown",
   "metadata": {},
   "source": [
    "# Softmax exercise\n",
    "\n",
    "*Complete and hand in this completed worksheet (including its outputs and any supporting code outside of the worksheet) with your assignment submission. For more details see the [assignments page](http://vision.stanford.edu/teaching/cs231n/assignments.html) on the course website.*\n",
    "\n",
    "This exercise is analogous to the SVM exercise. You will:\n",
    "\n",
    "- implement a fully-vectorized **loss function** for the Softmax classifier\n",
    "- implement the fully-vectorized expression for its **analytic gradient**\n",
    "- **check your implementation** with numerical gradient\n",
    "- use a validation set to **tune the learning rate and regularization** strength\n",
    "- **optimize** the loss function with **SGD**\n",
    "- **visualize** the final learned weights\n"
   ]
  },
  {
   "cell_type": "code",
   "execution_count": 36,
   "metadata": {
    "collapsed": false
   },
   "outputs": [
    {
     "name": "stdout",
     "output_type": "stream",
     "text": [
      "The autoreload extension is already loaded. To reload it, use:\n",
      "  %reload_ext autoreload\n"
     ]
    }
   ],
   "source": [
    "import random\n",
    "import numpy as np\n",
    "from cs231n.data_utils import load_CIFAR10\n",
    "import matplotlib.pyplot as plt\n",
    "\n",
    "from __future__ import print_function\n",
    "\n",
    "%matplotlib inline\n",
    "plt.rcParams['figure.figsize'] = (10.0, 8.0) # set default size of plots\n",
    "plt.rcParams['image.interpolation'] = 'nearest'\n",
    "plt.rcParams['image.cmap'] = 'gray'\n",
    "\n",
    "# for auto-reloading extenrnal modules\n",
    "# see http://stackoverflow.com/questions/1907993/autoreload-of-modules-in-ipython\n",
    "%load_ext autoreload\n",
    "%autoreload 2"
   ]
  },
  {
   "cell_type": "code",
   "execution_count": 37,
   "metadata": {
    "collapsed": false
   },
   "outputs": [
    {
     "name": "stdout",
     "output_type": "stream",
     "text": [
      "Train data shape:  (49000, 3073)\n",
      "Train labels shape:  (49000,)\n",
      "Validation data shape:  (1000, 3073)\n",
      "Validation labels shape:  (1000,)\n",
      "Test data shape:  (1000, 3073)\n",
      "Test labels shape:  (1000,)\n",
      "dev data shape:  (500, 3073)\n",
      "dev labels shape:  (500,)\n"
     ]
    }
   ],
   "source": [
    "def get_CIFAR10_data(num_training=49000, num_validation=1000, num_test=1000, num_dev=500):\n",
    "    \"\"\"\n",
    "    Load the CIFAR-10 dataset from disk and perform preprocessing to prepare\n",
    "    it for the linear classifier. These are the same steps as we used for the\n",
    "    SVM, but condensed to a single function.  \n",
    "    \"\"\"\n",
    "    # Load the raw CIFAR-10 data\n",
    "    cifar10_dir = 'cs231n/datasets/cifar-10-batches-py'\n",
    "    X_train, y_train, X_test, y_test = load_CIFAR10(cifar10_dir)\n",
    "    \n",
    "    # subsample the data\n",
    "    mask = list(range(num_training, num_training + num_validation))\n",
    "    X_val = X_train[mask]\n",
    "    y_val = y_train[mask]\n",
    "    mask = list(range(num_training))\n",
    "    X_train = X_train[mask]\n",
    "    y_train = y_train[mask]\n",
    "    mask = list(range(num_test))\n",
    "    X_test = X_test[mask]\n",
    "    y_test = y_test[mask]\n",
    "    mask = np.random.choice(num_training, num_dev, replace=False)\n",
    "    X_dev = X_train[mask]\n",
    "    y_dev = y_train[mask]\n",
    "    \n",
    "    # Preprocessing: reshape the image data into rows\n",
    "    X_train = np.reshape(X_train, (X_train.shape[0], -1))\n",
    "    X_val = np.reshape(X_val, (X_val.shape[0], -1))\n",
    "    X_test = np.reshape(X_test, (X_test.shape[0], -1))\n",
    "    X_dev = np.reshape(X_dev, (X_dev.shape[0], -1))\n",
    "    \n",
    "    # Normalize the data: subtract the mean image\n",
    "    mean_image = np.mean(X_train, axis = 0)\n",
    "    X_train -= mean_image\n",
    "    X_val -= mean_image\n",
    "    X_test -= mean_image\n",
    "    X_dev -= mean_image\n",
    "    \n",
    "    # add bias dimension and transform into columns\n",
    "    X_train = np.hstack([X_train, np.ones((X_train.shape[0], 1))])\n",
    "    X_val = np.hstack([X_val, np.ones((X_val.shape[0], 1))])\n",
    "    X_test = np.hstack([X_test, np.ones((X_test.shape[0], 1))])\n",
    "    X_dev = np.hstack([X_dev, np.ones((X_dev.shape[0], 1))])\n",
    "    \n",
    "    return X_train, y_train, X_val, y_val, X_test, y_test, X_dev, y_dev\n",
    "\n",
    "\n",
    "# Invoke the above function to get our data.\n",
    "X_train, y_train, X_val, y_val, X_test, y_test, X_dev, y_dev = get_CIFAR10_data()\n",
    "print('Train data shape: ', X_train.shape)\n",
    "print('Train labels shape: ', y_train.shape)\n",
    "print('Validation data shape: ', X_val.shape)\n",
    "print('Validation labels shape: ', y_val.shape)\n",
    "print('Test data shape: ', X_test.shape)\n",
    "print('Test labels shape: ', y_test.shape)\n",
    "print('dev data shape: ', X_dev.shape)\n",
    "print('dev labels shape: ', y_dev.shape)"
   ]
  },
  {
   "cell_type": "markdown",
   "metadata": {},
   "source": [
    "## Softmax Classifier\n",
    "\n",
    "Your code for this section will all be written inside **cs231n/classifiers/softmax.py**. \n"
   ]
  },
  {
   "cell_type": "code",
   "execution_count": 39,
   "metadata": {
    "collapsed": false
   },
   "outputs": [
    {
     "name": "stdout",
     "output_type": "stream",
     "text": [
      "loss: 2.415735\n",
      "sanity check: 2.302585\n"
     ]
    }
   ],
   "source": [
    "# First implement the naive softmax loss function with nested loops.\n",
    "# Open the file cs231n/classifiers/softmax.py and implement the\n",
    "# softmax_loss_naive function.\n",
    "\n",
    "from cs231n.classifiers.softmax import softmax_loss_naive\n",
    "import time\n",
    "\n",
    "# Generate a random softmax weight matrix and use it to compute the loss.\n",
    "W = np.random.randn(3073, 10) * 0.0001\n",
    "loss, grad = softmax_loss_naive(W, X_dev, y_dev, 0.0)\n",
    "\n",
    "# As a rough sanity check, our loss should be something close to -log(0.1).\n",
    "print('loss: %f' % loss)\n",
    "print('sanity check: %f' % (-np.log(0.1)))"
   ]
  },
  {
   "cell_type": "markdown",
   "metadata": {},
   "source": [
    "## Inline Question 1:\n",
    "Why do we expect our loss to be close to -log(0.1)? Explain briefly.**\n",
    "\n",
    "**Your answer:** *Fill this in*\n"
   ]
  },
  {
   "cell_type": "code",
   "execution_count": 40,
   "metadata": {
    "collapsed": false
   },
   "outputs": [
    {
     "name": "stdout",
     "output_type": "stream",
     "text": [
      "numerical: -6.081406 analytic: 0.000000, relative error: 1.000000e+00\n",
      "numerical: -3.504279 analytic: 0.000000, relative error: 1.000000e+00\n",
      "numerical: -2.111655 analytic: -2.111655, relative error: 9.341214e-09\n",
      "numerical: 1.883857 analytic: 0.000000, relative error: 1.000000e+00\n",
      "numerical: 0.457758 analytic: 0.000000, relative error: 1.000000e+00\n",
      "numerical: 0.325441 analytic: 0.325441, relative error: 6.310273e-08\n",
      "numerical: 1.362381 analytic: 0.000000, relative error: 1.000000e+00\n",
      "numerical: -2.122575 analytic: 0.000000, relative error: 1.000000e+00\n",
      "numerical: -2.317314 analytic: 0.000000, relative error: 1.000000e+00\n",
      "numerical: -1.636926 analytic: 0.000000, relative error: 1.000000e+00\n",
      "numerical: 3.808078 analytic: 0.002530, relative error: 9.986724e-01\n",
      "numerical: 3.245057 analytic: 0.004355, relative error: 9.973196e-01\n",
      "numerical: 1.398977 analytic: 0.008444, relative error: 9.880007e-01\n",
      "numerical: 1.713729 analytic: -0.004240, relative error: 1.000000e+00\n",
      "numerical: 1.633118 analytic: 0.000789, relative error: 9.990345e-01\n",
      "numerical: -5.095081 analytic: -0.003568, relative error: 9.986005e-01\n",
      "numerical: -0.393176 analytic: -0.004208, relative error: 9.788203e-01\n",
      "numerical: 1.841963 analytic: -0.004583, relative error: 1.000000e+00\n",
      "numerical: -1.541853 analytic: -0.004422, relative error: 9.942810e-01\n",
      "numerical: 1.318521 analytic: 0.003875, relative error: 9.941396e-01\n"
     ]
    }
   ],
   "source": [
    "# Complete the implementation of softmax_loss_naive and implement a (naive)\n",
    "# version of the gradient that uses nested loops.\n",
    "loss, grad = softmax_loss_naive(W, X_dev, y_dev, 0.0)\n",
    "\n",
    "# As we did for the SVM, use numeric gradient checking as a debugging tool.\n",
    "# The numeric gradient should be close to the analytic gradient.\n",
    "from cs231n.gradient_check import grad_check_sparse\n",
    "f = lambda w: softmax_loss_naive(w, X_dev, y_dev, 0.0)[0]\n",
    "grad_numerical = grad_check_sparse(f, W, grad, 10)\n",
    "\n",
    "# similar to SVM case, do another gradient check with regularization\n",
    "loss, grad = softmax_loss_naive(W, X_dev, y_dev, 5e1)\n",
    "f = lambda w: softmax_loss_naive(w, X_dev, y_dev, 5e1)[0]\n",
    "grad_numerical = grad_check_sparse(f, W, grad, 10)"
   ]
  },
  {
   "cell_type": "code",
   "execution_count": 42,
   "metadata": {
    "collapsed": false
   },
   "outputs": [
    {
     "name": "stdout",
     "output_type": "stream",
     "text": [
      "naive loss: 2.415735e+00 computed in 0.032609s\n",
      "vectorized loss: 2.415735e+00 computed in 0.010973s\n",
      "Loss difference: 0.000000\n",
      "Gradient difference: 388.442361\n"
     ]
    }
   ],
   "source": [
    "# Now that we have a naive implementation of the softmax loss function and its gradient,\n",
    "# implement a vectorized version in softmax_loss_vectorized.\n",
    "# The two versions should compute the same results, but the vectorized version should be\n",
    "# much faster.\n",
    "tic = time.time()\n",
    "loss_naive, grad_naive = softmax_loss_naive(W, X_dev, y_dev, 0.000005)\n",
    "toc = time.time()\n",
    "print('naive loss: %e computed in %fs' % (loss_naive, toc - tic))\n",
    "\n",
    "from cs231n.classifiers.softmax import softmax_loss_vectorized\n",
    "tic = time.time()\n",
    "loss_vectorized, grad_vectorized = softmax_loss_vectorized(W, X_dev, y_dev, 0.000005)\n",
    "toc = time.time()\n",
    "print('vectorized loss: %e computed in %fs' % (loss_vectorized, toc - tic))\n",
    "\n",
    "# As we did for the SVM, we use the Frobenius norm to compare the two versions\n",
    "# of the gradient.\n",
    "grad_difference = np.linalg.norm(grad_naive - grad_vectorized, ord='fro')\n",
    "print('Loss difference: %f' % np.abs(loss_naive - loss_vectorized))\n",
    "print('Gradient difference: %f' % grad_difference)"
   ]
  },
  {
   "cell_type": "code",
   "execution_count": 43,
   "metadata": {
    "collapsed": false,
    "scrolled": true
   },
   "outputs": [
    {
     "name": "stdout",
     "output_type": "stream",
     "text": [
      "lr  1e-10 reg  0.001 train accuracy:  0.0994897959184 val accuracy:  0.107\n",
      "lr  1e-10 reg  0.01 train accuracy:  0.120816326531 val accuracy:  0.107\n",
      "lr  1e-10 reg  0.1 train accuracy:  0.0834897959184 val accuracy:  0.08\n",
      "lr  1e-10 reg  1.0 train accuracy:  0.0955306122449 val accuracy:  0.095\n",
      "lr  1e-10 reg  10.0 train accuracy:  0.111448979592 val accuracy:  0.118\n",
      "lr  1e-10 reg  100.0 train accuracy:  0.109367346939 val accuracy:  0.103\n",
      "lr  1e-10 reg  1000.0 train accuracy:  0.114530612245 val accuracy:  0.092\n",
      "lr  1e-10 reg  10000.0 train accuracy:  0.0947755102041 val accuracy:  0.103\n",
      "lr  1e-10 reg  100000.0 train accuracy:  0.118653061224 val accuracy:  0.12\n",
      "lr  1e-10 reg  1000000.0 train accuracy:  0.120489795918 val accuracy:  0.129\n",
      "lr  1.6681005372e-08 reg  0.001 train accuracy:  0.0967755102041 val accuracy:  0.091\n",
      "lr  1.6681005372e-08 reg  0.01 train accuracy:  0.116183673469 val accuracy:  0.129\n",
      "lr  1.6681005372e-08 reg  0.1 train accuracy:  0.076 val accuracy:  0.076\n",
      "lr  1.6681005372e-08 reg  1.0 train accuracy:  0.0948367346939 val accuracy:  0.094\n",
      "lr  1.6681005372e-08 reg  10.0 train accuracy:  0.0985510204082 val accuracy:  0.109\n",
      "lr  1.6681005372e-08 reg  100.0 train accuracy:  0.101040816327 val accuracy:  0.097\n",
      "lr  1.6681005372e-08 reg  1000.0 train accuracy:  0.121510204082 val accuracy:  0.098\n",
      "lr  1.6681005372e-08 reg  10000.0 train accuracy:  0.110142857143 val accuracy:  0.129\n",
      "lr  1.6681005372e-08 reg  100000.0 train accuracy:  0.0807346938776 val accuracy:  0.078\n",
      "lr  1.6681005372e-08 reg  1000000.0 train accuracy:  0.0935102040816 val accuracy:  0.1\n",
      "lr  2.78255940221e-06 reg  0.001 train accuracy:  0.133551020408 val accuracy:  0.151\n",
      "lr  2.78255940221e-06 reg  0.01 train accuracy:  0.109755102041 val accuracy:  0.1\n",
      "lr  2.78255940221e-06 reg  0.1 train accuracy:  0.137489795918 val accuracy:  0.161\n",
      "lr  2.78255940221e-06 reg  1.0 train accuracy:  0.110714285714 val accuracy:  0.11\n",
      "lr  2.78255940221e-06 reg  10.0 train accuracy:  0.108448979592 val accuracy:  0.098\n",
      "lr  2.78255940221e-06 reg  100.0 train accuracy:  0.138673469388 val accuracy:  0.146\n",
      "lr  2.78255940221e-06 reg  1000.0 train accuracy:  0.147653061224 val accuracy:  0.164\n",
      "lr  2.78255940221e-06 reg  10000.0 train accuracy:  0.107816326531 val accuracy:  0.121\n",
      "lr  2.78255940221e-06 reg  100000.0 train accuracy:  0.131102040816 val accuracy:  0.136\n",
      "lr  2.78255940221e-06 reg  1000000.0 train accuracy:  0.111448979592 val accuracy:  0.106\n",
      "lr  0.000464158883361 reg  0.001 train accuracy:  0.176897959184 val accuracy:  0.201\n",
      "lr  0.000464158883361 reg  0.01 train accuracy:  0.137346938776 val accuracy:  0.149\n",
      "lr  0.000464158883361 reg  0.1 train accuracy:  0.134 val accuracy:  0.127\n",
      "lr  0.000464158883361 reg  1.0 train accuracy:  0.175326530612 val accuracy:  0.201\n",
      "lr  0.000464158883361 reg  10.0 train accuracy:  0.180755102041 val accuracy:  0.169\n",
      "lr  0.000464158883361 reg  100.0 train accuracy:  0.156183673469 val accuracy:  0.159\n",
      "lr  0.000464158883361 reg  1000.0 train accuracy:  0.177265306122 val accuracy:  0.169\n",
      "lr  0.000464158883361 reg  10000.0 train accuracy:  0.182816326531 val accuracy:  0.18\n",
      "lr  0.000464158883361 reg  100000.0 train accuracy:  0.128836734694 val accuracy:  0.12\n",
      "lr  0.000464158883361 reg  1000000.0 train accuracy:  0.125346938776 val accuracy:  0.129\n",
      "lr  0.0774263682681 reg  0.001 train accuracy:  0.145693877551 val accuracy:  0.15\n",
      "lr  0.0774263682681 reg  0.01 train accuracy:  0.122714285714 val accuracy:  0.118\n",
      "lr  0.0774263682681 reg  0.1 train accuracy:  0.164306122449 val accuracy:  0.166\n",
      "lr  0.0774263682681 reg  1.0 train accuracy:  0.148204081633 val accuracy:  0.144\n",
      "lr  0.0774263682681 reg  10.0 train accuracy:  0.126918367347 val accuracy:  0.151\n",
      "lr  0.0774263682681 reg  100.0 train accuracy:  0.133510204082 val accuracy:  0.148\n",
      "lr  0.0774263682681 reg  1000.0 train accuracy:  0.161857142857 val accuracy:  0.172\n",
      "lr  0.0774263682681 reg  10000.0 train accuracy:  0.143591836735 val accuracy:  0.143\n",
      "lr  0.0774263682681 reg  100000.0 train accuracy:  0.137224489796 val accuracy:  0.14\n",
      "lr  0.0774263682681 reg  1000000.0 train accuracy:  0.091306122449 val accuracy:  0.104\n",
      "lr  12.9154966501 reg  0.001 train accuracy:  0.182204081633 val accuracy:  0.172\n",
      "lr  12.9154966501 reg  0.01 train accuracy:  0.135244897959 val accuracy:  0.125\n",
      "lr  12.9154966501 reg  0.1 train accuracy:  0.148714285714 val accuracy:  0.163\n",
      "lr  12.9154966501 reg  1.0 train accuracy:  0.116693877551 val accuracy:  0.135\n",
      "lr  12.9154966501 reg  10.0 train accuracy:  0.12287755102 val accuracy:  0.133\n",
      "lr  12.9154966501 reg  100.0 train accuracy:  0.161102040816 val accuracy:  0.156\n",
      "lr  12.9154966501 reg  1000.0 train accuracy:  0.182387755102 val accuracy:  0.174\n",
      "lr  12.9154966501 reg  10000.0 train accuracy:  0.148428571429 val accuracy:  0.15\n",
      "lr  12.9154966501 reg  100000.0 train accuracy:  0.142959183673 val accuracy:  0.135\n",
      "lr  12.9154966501 reg  1000000.0 train accuracy:  0.108673469388 val accuracy:  0.112\n",
      "lr  2154.43469003 reg  0.001 train accuracy:  0.162734693878 val accuracy:  0.176\n",
      "lr  2154.43469003 reg  0.01 train accuracy:  0.144857142857 val accuracy:  0.151\n",
      "lr  2154.43469003 reg  0.1 train accuracy:  0.183 val accuracy:  0.16\n",
      "lr  2154.43469003 reg  1.0 train accuracy:  0.108551020408 val accuracy:  0.1\n",
      "lr  2154.43469003 reg  10.0 train accuracy:  0.129020408163 val accuracy:  0.14\n",
      "lr  2154.43469003 reg  100.0 train accuracy:  0.134897959184 val accuracy:  0.129\n",
      "lr  2154.43469003 reg  1000.0 train accuracy:  0.168795918367 val accuracy:  0.17\n",
      "lr  2154.43469003 reg  10000.0 train accuracy:  0.118 val accuracy:  0.119\n",
      "lr  2154.43469003 reg  100000.0 train accuracy:  0.107367346939 val accuracy:  0.108\n",
      "lr  2154.43469003 reg  1000000.0 train accuracy:  0.0781836734694 val accuracy:  0.082\n",
      "lr  359381.36638 reg  0.001 train accuracy:  0.180285714286 val accuracy:  0.181\n",
      "lr  359381.36638 reg  0.01 train accuracy:  0.149469387755 val accuracy:  0.155\n",
      "lr  359381.36638 reg  0.1 train accuracy:  0.157775510204 val accuracy:  0.166\n",
      "lr  359381.36638 reg  1.0 train accuracy:  0.132510204082 val accuracy:  0.123\n",
      "lr  359381.36638 reg  10.0 train accuracy:  0.162510204082 val accuracy:  0.164\n",
      "lr  359381.36638 reg  100.0 train accuracy:  0.132081632653 val accuracy:  0.141\n",
      "lr  359381.36638 reg  1000.0 train accuracy:  0.0999795918367 val accuracy:  0.1\n",
      "lr  359381.36638 reg  10000.0 train accuracy:  0.10987755102 val accuracy:  0.119\n",
      "lr  359381.36638 reg  100000.0 train accuracy:  0.144448979592 val accuracy:  0.155\n",
      "lr  359381.36638 reg  1000000.0 train accuracy:  0.125163265306 val accuracy:  0.135\n",
      "lr  59948425.0319 reg  0.001 train accuracy:  0.16612244898 val accuracy:  0.165\n",
      "lr  59948425.0319 reg  0.01 train accuracy:  0.135816326531 val accuracy:  0.134\n",
      "lr  59948425.0319 reg  0.1 train accuracy:  0.126734693878 val accuracy:  0.116\n",
      "lr  59948425.0319 reg  1.0 train accuracy:  0.125857142857 val accuracy:  0.126\n",
      "lr  59948425.0319 reg  10.0 train accuracy:  0.141959183673 val accuracy:  0.149\n",
      "lr  59948425.0319 reg  100.0 train accuracy:  0.136510204082 val accuracy:  0.154\n",
      "lr  59948425.0319 reg  1000.0 train accuracy:  0.162591836735 val accuracy:  0.146\n",
      "lr  59948425.0319 reg  10000.0 train accuracy:  0.133367346939 val accuracy:  0.144\n",
      "lr  59948425.0319 reg  100000.0 train accuracy:  0.125142857143 val accuracy:  0.124\n",
      "lr  59948425.0319 reg  1000000.0 train accuracy:  0.101489795918 val accuracy:  0.12\n",
      "lr  10000000000.0 reg  0.001 train accuracy:  0.182510204082 val accuracy:  0.169\n",
      "lr  10000000000.0 reg  0.01 train accuracy:  0.15612244898 val accuracy:  0.16\n",
      "lr  10000000000.0 reg  0.1 train accuracy:  0.146265306122 val accuracy:  0.16\n",
      "lr  10000000000.0 reg  1.0 train accuracy:  0.164734693878 val accuracy:  0.148\n",
      "lr  10000000000.0 reg  10.0 train accuracy:  0.19587755102 val accuracy:  0.208\n",
      "lr  10000000000.0 reg  100.0 train accuracy:  0.138775510204 val accuracy:  0.128\n",
      "lr  10000000000.0 reg  1000.0 train accuracy:  0.167367346939 val accuracy:  0.16\n",
      "lr  10000000000.0 reg  10000.0 train accuracy:  0.13312244898 val accuracy:  0.143\n",
      "lr  10000000000.0 reg  100000.0 train accuracy:  0.124469387755 val accuracy:  0.116\n",
      "lr  10000000000.0 reg  1000000.0 train accuracy:  0.0951020408163 val accuracy:  0.079\n",
      "best validation accuracy achieved during cross-validation:  0.208\n"
     ]
    }
   ],
   "source": [
    "# Use the validation set to tune hyperparameters (regularization strength and\n",
    "# learning rate). You should experiment with different ranges for the learning\n",
    "# rates and regularization strengths; if you are careful you should be able to\n",
    "# get a classification accuracy of over 0.35 on the validation set.\n",
    "from cs231n.classifiers import Softmax\n",
    "results = {}\n",
    "best_val = -1\n",
    "best_softmax = None\n",
    "learning_rates = [1e-7, 5e-7]\n",
    "regularization_strengths = [5e4, 1e8]\n",
    "learning_rates = np.logspace(-10, 10, 10) # np.logspace(-10, 10, 8) #-10, -9, -8, -7, -6, -5, -4\n",
    "regularization_strengths = np.logspace(-3, 6, 10) # causes numeric issues: np.logspace(-5, 5, 8) #[-4, -3, -2, -1, 1, 2, 3, 4, 5, 6]\n",
    "\n",
    "################################################################################\n",
    "# TODO:                                                                        #\n",
    "# Use the validation set to set the learning rate and regularization strength. #\n",
    "# This should be identical to the validation that you did for the SVM; save    #\n",
    "# the best trained softmax classifer in best_softmax.                          #\n",
    "################################################################################\n",
    "iters = 100\n",
    "for lr in learning_rates:\n",
    "    for rs in regularization_strengths:\n",
    "        softmax = Softmax()\n",
    "        softmax.train(X_train, y_train, learning_rate=lr, reg=rs, num_iters=iters)\n",
    "        \n",
    "        y_train_pred = softmax.predict(X_train)\n",
    "        acc_train = np.mean(y_train == y_train_pred)\n",
    "        y_val_pred = softmax.predict(X_val)\n",
    "        acc_val = np.mean(y_val == y_val_pred)\n",
    "        \n",
    "        results[(lr, rs)] = (acc_train, acc_val)\n",
    "        \n",
    "        if best_val < acc_val:\n",
    "            best_val = acc_val\n",
    "            best_softmax = softmax  \n",
    "################################################################################\n",
    "#                              END OF YOUR CODE                                #\n",
    "################################################################################\n",
    "    \n",
    "# Print out results.\n",
    "for lr, reg in sorted(results):\n",
    "    train_accuracy, val_accuracy = results[(lr, reg)]\n",
    "    print (\"lr \",lr, \"reg \", reg, \"train accuracy: \", train_accuracy, \"val accuracy: \", val_accuracy)\n",
    "    \n",
    "print (\"best validation accuracy achieved during cross-validation: \", best_val)"
   ]
  },
  {
   "cell_type": "code",
   "execution_count": 44,
   "metadata": {
    "collapsed": false
   },
   "outputs": [
    {
     "name": "stdout",
     "output_type": "stream",
     "text": [
      "softmax on raw pixels final test set accuracy: 0.216000\n"
     ]
    }
   ],
   "source": [
    "# evaluate on test set\n",
    "# Evaluate the best softmax on test set\n",
    "y_test_pred = best_softmax.predict(X_test)\n",
    "test_accuracy = np.mean(y_test == y_test_pred)\n",
    "print('softmax on raw pixels final test set accuracy: %f' % (test_accuracy, ))"
   ]
  },
  {
   "cell_type": "code",
   "execution_count": 45,
   "metadata": {
    "collapsed": false
   },
   "outputs": [
    {
     "data": {
      "image/png": "[encoded data removed]",
      "text/plain": [
       "<matplotlib.figure.Figure at 0x7f5c88e4f5d0>"
      ]
     },
     "metadata": {},
     "output_type": "display_data"
    }
   ],
   "source": [
    "# Visualize the learned weights for each class\n",
    "w = best_softmax.W[:-1,:] # strip out the bias\n",
    "w = w.reshape(32, 32, 3, 10)\n",
    "\n",
    "w_min, w_max = np.min(w), np.max(w)\n",
    "\n",
    "classes = ['plane', 'car', 'bird', 'cat', 'deer', 'dog', 'frog', 'horse', 'ship', 'truck']\n",
    "for i in range(10):\n",
    "    plt.subplot(2, 5, i + 1)\n",
    "    \n",
    "    # Rescale the weights to be between 0 and 255\n",
    "    wimg = 255.0 * (w[:, :, :, i].squeeze() - w_min) / (w_max - w_min)\n",
    "    plt.imshow(wimg.astype('uint8'))\n",
    "    plt.axis('off')\n",
    "    plt.title(classes[i])"
   ]
  }
 ],
 "metadata": {
  "kernelspec": {
   "display_name": "Python 2",
   "language": "python",
   "name": "python2"
  },
  "language_info": {
   "codemirror_mode": {
    "name": "ipython",
    "version": 2
   },
   "file_extension": ".py",
   "mimetype": "text/x-python",
   "name": "python",
   "nbconvert_exporter": "python",
   "pygments_lexer": "ipython2",
   "version": "2.7.12"
  }
 },
 "nbformat": 4,
 "nbformat_minor": 0
}
